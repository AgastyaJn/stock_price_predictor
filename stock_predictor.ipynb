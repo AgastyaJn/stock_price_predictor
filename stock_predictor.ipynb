{
 "cells": [
  {
   "cell_type": "markdown",
   "id": "3fa12856",
   "metadata": {},
   "source": [
    "# 📈 Stock Price Predictor with Linear Regression\n",
    "A simple machine learning project that fetches stock price data using Yahoo Finance and predicts future prices using a linear regression model."
   ]
  },
  {
   "cell_type": "code",
   "execution_count": null,
   "id": "2050329e",
   "metadata": {},
   "outputs": [],
   "source": [
    "import yfinance as yf\n",
    "import pandas as pd\n",
    "import numpy as np\n",
    "import matplotlib.pyplot as plt\n",
    "import seaborn as sns\n",
    "from sklearn.linear_model import LinearRegression\n",
    "from sklearn.model_selection import train_test_split\n",
    "from sklearn.metrics import mean_squared_error, r2_score\n",
    "\n",
    "sns.set()"
   ]
  },
  {
   "cell_type": "code",
   "execution_count": null,
   "id": "ab538a4d",
   "metadata": {},
   "outputs": [],
   "source": [
    "ticker = input(\"Enter stock ticker (e.g. AAPL): \").upper()\n",
    "start_date = \"2015-01-01\"\n",
    "end_date = \"2023-12-31\"\n",
    "\n",
    "stock_data = yf.download(ticker, start=start_date, end=end_date)\n",
    "print(f\"\\nLoaded {len(stock_data)} rows of data for {ticker}.\")"
   ]
  },
  {
   "cell_type": "code",
   "execution_count": null,
   "id": "89947fbc",
   "metadata": {},
   "outputs": [],
   "source": [
    "plt.figure(figsize=(12, 6))\n",
    "plt.plot(stock_data['Close'], label='Close Price')\n",
    "plt.title(f'{ticker} Stock Price')\n",
    "plt.xlabel('Date')\n",
    "plt.ylabel('Price (USD)')\n",
    "plt.legend()\n",
    "plt.show()"
   ]
  },
  {
   "cell_type": "code",
   "execution_count": null,
   "id": "7e6c5ea5",
   "metadata": {},
   "outputs": [],
   "source": [
    "stock_data['Prev_Close'] = stock_data['Close'].shift(1)\n",
    "stock_data.dropna(inplace=True)\n",
    "\n",
    "X = stock_data[['Prev_Close']]\n",
    "y = stock_data['Close']\n",
    "\n",
    "X_train, X_test, y_train, y_test = train_test_split(X, y, test_size=0.2, shuffle=False)"
   ]
  },
  {
   "cell_type": "code",
   "execution_count": null,
   "id": "1b1fbab7",
   "metadata": {},
   "outputs": [],
   "source": [
    "model = LinearRegression()\n",
    "model.fit(X_train, y_train)"
   ]
  },
  {
   "cell_type": "code",
   "execution_count": null,
   "id": "f99c159b",
   "metadata": {},
   "outputs": [],
   "source": [
    "predictions = model.predict(X_test)\n",
    "\n",
    "plt.figure(figsize=(12, 6))\n",
    "plt.plot(y_test.values, label='Actual')\n",
    "plt.plot(predictions, label='Predicted')\n",
    "plt.title(f'{ticker} Stock Price Prediction')\n",
    "plt.xlabel('Time Step')\n",
    "plt.ylabel('Price (USD)')\n",
    "plt.legend()\n",
    "plt.show()"
   ]
  },
  {
   "cell_type": "code",
   "execution_count": null,
   "id": "1850eba2",
   "metadata": {},
   "outputs": [],
   "source": [
    "mse = mean_squared_error(y_test, predictions)\n",
    "r2 = r2_score(y_test, predictions)\n",
    "print(f\"\\nMean Squared Error: {mse:.2f}\")\n",
    "print(f\"R-squared Score: {r2:.2f}\")"
   ]
  },
  {
   "cell_type": "markdown",
   "id": "7d3188ce",
   "metadata": {},
   "source": [
    "### 🔮 Future Improvements:\n",
    "- Use features like volume, open, high, low\n",
    "- Use multiple past days for prediction\n",
    "- Try advanced models like LSTM or XGBoost"
   ]
  }
 ],
 "metadata": {},
 "nbformat": 4,
 "nbformat_minor": 5
}
